{
 "cells": [
  {
   "cell_type": "markdown",
   "id": "6633fb84",
   "metadata": {},
   "source": []
  },
  {
   "cell_type": "markdown",
   "id": "ee3cabf9",
   "metadata": {},
   "source": [
    "# **Installation**"
   ]
  },
  {
   "cell_type": "markdown",
   "id": "d4e5b974",
   "metadata": {},
   "source": [
    "- use the below command for mac and linux\n",
    "- `curl -LsSf https://astral.sh/uv/install.sh | sh`\n",
    "- below one for the windows\n",
    "- `powershell -ExecutionPolicy ByPass -c \"irm https://astral.sh/uv/install.ps1 | iex\"`"
   ]
  },
  {
   "cell_type": "markdown",
   "id": "25efa47f",
   "metadata": {},
   "source": [
    "- or simply use the `pip install uv`"
   ]
  },
  {
   "cell_type": "markdown",
   "id": "69481721",
   "metadata": {},
   "source": [
    "- For Linux and macOS, modify the PATH environment variable using the following command in the terminal:\n",
    "`export PATH=\"$HOME/.local/bin:$PATH\"`"
   ]
  },
  {
   "cell_type": "markdown",
   "id": "9d7632b6",
   "metadata": {},
   "source": [
    "***After installing uv, you can check that uv is available by running the uv command:***\n",
    "- Enter the command : `uv`"
   ]
  },
  {
   "cell_type": "markdown",
   "id": "cd84e4a2",
   "metadata": {},
   "source": [
    "# **Fist Steps**\n",
    "\n",
    "Creating and working on Python projects, i.e., with a pyproject.toml.\n",
    "\n",
    "- `uv init`: Create a new Python project.\n",
    "- `uv add`: Add a dependency to the project.\n",
    "- `uv remove`: Remove a dependency from the project.\n",
    "- `uv sync`: Sync the project's dependencies with the environment.\n",
    "- `uv lock`: Create a lockfile for the project's dependencies.\n",
    "- `uv run`: Run a command in the project environment.\n",
    "- `uv tree`: View the dependency tree for the project.\n",
    "- `uv build`: Build the project into distribution archives.\n",
    "- `uv publish`: Publish the project to a package index."
   ]
  },
  {
   "cell_type": "markdown",
   "id": "4683e6de",
   "metadata": {},
   "source": [
    "### **Creating virtual environments**\n",
    "Creating a virtual environment with uv is simple and straightforward. Use the following command, along with your desired environment name, to create it.\n",
    "- `uv venv`"
   ]
  },
  {
   "cell_type": "markdown",
   "id": "b7de6695",
   "metadata": {},
   "source": [
    "# **Python Versions**"
   ]
  },
  {
   "cell_type": "markdown",
   "id": "8655b9c9",
   "metadata": {},
   "source": [
    "To install a specific Python version:\n"
   ]
  },
  {
   "cell_type": "markdown",
   "id": "51403a66",
   "metadata": {},
   "source": [
    "cmd : `uv python install 3.12`"
   ]
  },
  {
   "cell_type": "markdown",
   "id": "d05fbf08",
   "metadata": {},
   "source": [
    "To install multiple Python versions:"
   ]
  },
  {
   "cell_type": "markdown",
   "metadata": {},
   "source": [
    "cmd : `uv python install 3.11 3.12`"
   ]
  },
  {
   "cell_type": "markdown",
   "id": "ecd97036",
   "metadata": {},
   "source": [
    "To view available and installed Python versions:"
   ]
  },
  {
   "cell_type": "markdown",
   "id": "8de63918",
   "metadata": {},
   "source": [
    "cmd: `uv python list`"
   ]
  },
  {
   "cell_type": "markdown",
   "id": "47c1380b",
   "metadata": {},
   "source": [
    "To exclude downloads and only show installed Python versions:"
   ]
  },
  {
   "cell_type": "markdown",
   "id": "233d73e9",
   "metadata": {},
   "source": [
    "cmd : `uv python list --only-installed`"
   ]
  },
  {
   "cell_type": "markdown",
   "id": "0f28febe",
   "metadata": {},
   "source": [
    "### **Managing packages in an environment (replacing pip and pipdeptree):**\n",
    "\n",
    "- `uv pip install`: Install packages into the current environment.\n",
    "- `uv pip show`: Show details about an installed package.\n",
    "- `uv pip freeze`: List installed packages and their versions.\n",
    "- `uv pip check`: Check that the current environment has compatible packages.\n",
    "- `uv pip list`: List installed packages.\n",
    "- `uv pip uninstall`: Uninstall packages.\n",
    "- `uv pip tree`: View the dependency tree for the environment."
   ]
  },
  {
   "cell_type": "markdown",
   "id": "559c4f6a",
   "metadata": {},
   "source": [
    "| **uv version**                                | **Explanation**                                                                                                                                     |\n",
    "|----------------------------------------------|-----------------------------------------------------------------------------------------------------------------------------------------------------|\n",
    "| **Project dependency file**<br>`pyproject.toml`       | Base or core dependencies are specified in this file.                                                                                               |\n",
    "| **Project lock file**<br>`uv.lock`                   | Derived dependencies are managed through a universal lockfile.                                                                                      |\n",
    "| **Installing Python**<br>`uv python install version` or `uv sync` or `uv run` | `uv` will locate or install Python as needed when syncing or running code within the environment.                                                  |\n",
    "| **Creating project**<br>`uv init projectname`        | `uv` handles project dependencies and environments, offering features like lockfile management and workspace support, similar to `pip`.            |\n",
    "| **Creating virtual environments**<br>`uv venv` or `uv sync` or `uv run`       | A virtual environment is automatically created by `uv` the first time you use it if one doesn’t already exist.                                     |\n",
    "| **Installing packages**<br>`uv pip install packagename` or `uv sync` or `uv run` | `uv` installs all required packages into the environment whenever it is used.                                                                       |\n",
    "| **Building dependencies**<br>`uv sync` or `uv run`    | The lockfile is rebuilt from dependencies each time `uv` is run.                                                                                    |\n",
    "| **Add a package**<br>`uv add`                        | Adding a package will update `pyproject.toml`, `uv.lock`, and synchronize the environment.                                                          |\n",
    "| **Remove a package**<br>`uv remove`                  | Removing a package will update `pyproject.toml`, `uv.lock`, and synchronize the environment.                                                        |\n",
    "| **Add a tool**<br>`uv tool install toolname`         | `uv` runs and installs command-line tools from Python packages, much like `pipx`.                                                                   |\n"
   ]
  },
  {
   "cell_type": "markdown",
   "id": "b804b813",
   "metadata": {},
   "source": []
  },
  {
   "cell_type": "markdown",
   "id": "99639e35",
   "metadata": {},
   "source": []
  },
  {
   "cell_type": "markdown",
   "id": "66bdc88e",
   "metadata": {},
   "source": []
  },
  {
   "cell_type": "markdown",
   "id": "b5c5ee99",
   "metadata": {},
   "source": []
  },
  {
   "cell_type": "markdown",
   "id": "5229e027",
   "metadata": {},
   "source": []
  },
  {
   "cell_type": "markdown",
   "id": "fb7b3e52",
   "metadata": {},
   "source": []
  },
  {
   "cell_type": "markdown",
   "id": "ef37ff79",
   "metadata": {},
   "source": []
  },
  {
   "cell_type": "markdown",
   "id": "17eca79f",
   "metadata": {},
   "source": []
  }
 ],
 "metadata": {
  "language_info": {
   "name": "python"
  }
 },
 "nbformat": 4,
 "nbformat_minor": 5
}
